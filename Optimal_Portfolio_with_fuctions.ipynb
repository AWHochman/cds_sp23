{
  "nbformat": 4,
  "nbformat_minor": 0,
  "metadata": {
    "colab": {
      "provenance": [],
      "include_colab_link": true
    },
    "kernelspec": {
      "name": "python3",
      "display_name": "Python 3"
    },
    "language_info": {
      "name": "python"
    }
  },
  "cells": [
    {
      "cell_type": "markdown",
      "metadata": {
        "id": "view-in-github",
        "colab_type": "text"
      },
      "source": [
        "<a href=\"https://colab.research.google.com/github/AWHochman/cds_sp23/blob/main/Optimal_Portfolio_with_fuctions.ipynb\" target=\"_parent\"><img src=\"https://colab.research.google.com/assets/colab-badge.svg\" alt=\"Open In Colab\"/></a>"
      ]
    },
    {
      "cell_type": "code",
      "execution_count": null,
      "metadata": {
        "colab": {
          "base_uri": "https://localhost:8080/"
        },
        "id": "pg6dWqy5FZMD",
        "outputId": "8d9129eb-eda5-42e6-c504-cf42245eef55"
      },
      "outputs": [
        {
          "output_type": "stream",
          "name": "stdout",
          "text": [
            "Looking in indexes: https://pypi.org/simple, https://us-python.pkg.dev/colab-wheels/public/simple/\n",
            "Requirement already satisfied: yfinance in /usr/local/lib/python3.9/dist-packages (0.2.12)\n",
            "Requirement already satisfied: multitasking>=0.0.7 in /usr/local/lib/python3.9/dist-packages (from yfinance) (0.0.11)\n",
            "Requirement already satisfied: numpy>=1.16.5 in /usr/local/lib/python3.9/dist-packages (from yfinance) (1.22.4)\n",
            "Requirement already satisfied: lxml>=4.9.1 in /usr/local/lib/python3.9/dist-packages (from yfinance) (4.9.2)\n",
            "Requirement already satisfied: frozendict>=2.3.4 in /usr/local/lib/python3.9/dist-packages (from yfinance) (2.3.5)\n",
            "Requirement already satisfied: appdirs>=1.4.4 in /usr/local/lib/python3.9/dist-packages (from yfinance) (1.4.4)\n",
            "Requirement already satisfied: beautifulsoup4>=4.11.1 in /usr/local/lib/python3.9/dist-packages (from yfinance) (4.11.2)\n",
            "Requirement already satisfied: pytz>=2022.5 in /usr/local/lib/python3.9/dist-packages (from yfinance) (2022.7.1)\n",
            "Requirement already satisfied: requests>=2.26 in /usr/local/lib/python3.9/dist-packages (from yfinance) (2.28.2)\n",
            "Requirement already satisfied: cryptography>=3.3.2 in /usr/local/lib/python3.9/dist-packages (from yfinance) (39.0.2)\n",
            "Requirement already satisfied: pandas>=1.3.0 in /usr/local/lib/python3.9/dist-packages (from yfinance) (1.3.5)\n",
            "Requirement already satisfied: html5lib>=1.1 in /usr/local/lib/python3.9/dist-packages (from yfinance) (1.1)\n",
            "Requirement already satisfied: soupsieve>1.2 in /usr/local/lib/python3.9/dist-packages (from beautifulsoup4>=4.11.1->yfinance) (2.4)\n",
            "Requirement already satisfied: cffi>=1.12 in /usr/local/lib/python3.9/dist-packages (from cryptography>=3.3.2->yfinance) (1.15.1)\n",
            "Requirement already satisfied: webencodings in /usr/local/lib/python3.9/dist-packages (from html5lib>=1.1->yfinance) (0.5.1)\n",
            "Requirement already satisfied: six>=1.9 in /usr/local/lib/python3.9/dist-packages (from html5lib>=1.1->yfinance) (1.15.0)\n",
            "Requirement already satisfied: python-dateutil>=2.7.3 in /usr/local/lib/python3.9/dist-packages (from pandas>=1.3.0->yfinance) (2.8.2)\n",
            "Requirement already satisfied: urllib3<1.27,>=1.21.1 in /usr/local/lib/python3.9/dist-packages (from requests>=2.26->yfinance) (1.26.14)\n",
            "Requirement already satisfied: idna<4,>=2.5 in /usr/local/lib/python3.9/dist-packages (from requests>=2.26->yfinance) (2.10)\n",
            "Requirement already satisfied: certifi>=2017.4.17 in /usr/local/lib/python3.9/dist-packages (from requests>=2.26->yfinance) (2022.12.7)\n",
            "Requirement already satisfied: charset-normalizer<4,>=2 in /usr/local/lib/python3.9/dist-packages (from requests>=2.26->yfinance) (3.1.0)\n",
            "Requirement already satisfied: pycparser in /usr/local/lib/python3.9/dist-packages (from cffi>=1.12->cryptography>=3.3.2->yfinance) (2.21)\n"
          ]
        }
      ],
      "source": [
        "#Imports\n",
        "from pandas_datareader import data as web\n",
        "!pip install yfinance\n",
        "import yfinance as yf\n",
        "import pandas as pd\n",
        "import numpy as np\n",
        "from datetime import datetime \n",
        "from matplotlib import pyplot as plt\n",
        "plt.style.use('fivethirtyeight')"
      ]
    },
    {
      "cell_type": "code",
      "source": [
        "pip install PyPortfolioOpt"
      ],
      "metadata": {
        "colab": {
          "base_uri": "https://localhost:8080/"
        },
        "id": "RX0NtgfOF-xr",
        "outputId": "48f21f69-a4ab-4ec8-82ab-e10a3c8a7560"
      },
      "execution_count": null,
      "outputs": [
        {
          "output_type": "stream",
          "name": "stdout",
          "text": [
            "Looking in indexes: https://pypi.org/simple, https://us-python.pkg.dev/colab-wheels/public/simple/\n",
            "Collecting PyPortfolioOpt\n",
            "  Downloading pyportfolioopt-1.5.4-py3-none-any.whl (61 kB)\n",
            "\u001b[2K     \u001b[90m━━━━━━━━━━━━━━━━━━━━━━━━━━━━━━━━━━━━━━━━\u001b[0m \u001b[32m61.9/61.9 KB\u001b[0m \u001b[31m4.0 MB/s\u001b[0m eta \u001b[36m0:00:00\u001b[0m\n",
            "\u001b[?25hRequirement already satisfied: pandas>=0.19 in /usr/local/lib/python3.9/dist-packages (from PyPortfolioOpt) (1.3.5)\n",
            "Requirement already satisfied: cvxpy<2.0.0,>=1.1.10 in /usr/local/lib/python3.9/dist-packages (from PyPortfolioOpt) (1.2.3)\n",
            "Requirement already satisfied: numpy<2.0.0,>=1.22.4 in /usr/local/lib/python3.9/dist-packages (from PyPortfolioOpt) (1.22.4)\n",
            "Requirement already satisfied: scipy<2.0,>=1.3 in /usr/local/lib/python3.9/dist-packages (from PyPortfolioOpt) (1.10.1)\n",
            "Requirement already satisfied: osqp>=0.4.1 in /usr/local/lib/python3.9/dist-packages (from cvxpy<2.0.0,>=1.1.10->PyPortfolioOpt) (0.6.2.post0)\n",
            "Requirement already satisfied: ecos>=2 in /usr/local/lib/python3.9/dist-packages (from cvxpy<2.0.0,>=1.1.10->PyPortfolioOpt) (2.0.12)\n",
            "Requirement already satisfied: scs>=1.1.6 in /usr/local/lib/python3.9/dist-packages (from cvxpy<2.0.0,>=1.1.10->PyPortfolioOpt) (3.2.2)\n",
            "Requirement already satisfied: setuptools<=64.0.2 in /usr/local/lib/python3.9/dist-packages (from cvxpy<2.0.0,>=1.1.10->PyPortfolioOpt) (57.4.0)\n",
            "Requirement already satisfied: python-dateutil>=2.7.3 in /usr/local/lib/python3.9/dist-packages (from pandas>=0.19->PyPortfolioOpt) (2.8.2)\n",
            "Requirement already satisfied: pytz>=2017.3 in /usr/local/lib/python3.9/dist-packages (from pandas>=0.19->PyPortfolioOpt) (2022.7.1)\n",
            "Requirement already satisfied: qdldl in /usr/local/lib/python3.9/dist-packages (from osqp>=0.4.1->cvxpy<2.0.0,>=1.1.10->PyPortfolioOpt) (0.1.5.post3)\n",
            "Requirement already satisfied: six>=1.5 in /usr/local/lib/python3.9/dist-packages (from python-dateutil>=2.7.3->pandas>=0.19->PyPortfolioOpt) (1.15.0)\n",
            "Installing collected packages: PyPortfolioOpt\n",
            "Successfully installed PyPortfolioOpt-1.5.4\n"
          ]
        }
      ]
    },
    {
      "cell_type": "code",
      "source": [
        "from pypfopt.efficient_frontier import EfficientFrontier\n",
        "from pypfopt import risk_models \n",
        "from pypfopt import expected_returns\n",
        "from pypfopt.discrete_allocation import DiscreteAllocation, get_latest_prices"
      ],
      "metadata": {
        "id": "sYDo-9rtGEZt"
      },
      "execution_count": null,
      "outputs": []
    },
    {
      "cell_type": "code",
      "source": [
        "assets = ['META', 'AMZN', 'AAPL','NFLX','GOOG']\n",
        "extra_money = 0\n",
        "\n",
        "# Get portfolio starting date\n",
        "stockStartDate = '2013-01-01'\n",
        "\n",
        "# Get portfolio ending date (today)\n",
        "def today_date():\n",
        "  today = datetime.today().strftime('%Y-%m-%d')\n",
        "  return today"
      ],
      "metadata": {
        "id": "Tm_lpxqvFnWN"
      },
      "execution_count": null,
      "outputs": []
    },
    {
      "cell_type": "code",
      "source": [
        "# function to pull stock data from yfinance\n",
        "# assets is a list of stock tickers (as strings), start is the starting date, and end is the ending date\n",
        "def get_data(start, end, assets):\n",
        "  df=pd.DataFrame()\n",
        "  for stock in assets:\n",
        "    df[stock]= yf.download(stock, start=start, end=end)['Adj Close']\n",
        "  return df\n"
      ],
      "metadata": {
        "id": "Cqmcd-UvF3UB"
      },
      "execution_count": null,
      "outputs": []
    },
    {
      "cell_type": "code",
      "source": [
        "# Portfolio Optimization\n",
        "# function that finds the optimal weights (and returns them in an array) for each stock. df is a data frame of daily stock prices\n",
        "def get_weights(df):\n",
        "  # Calculate the expected returns and the annualized sample covariance matrix of asset returns\n",
        "  mean = expected_returns.mean_historical_return(df)\n",
        "  S = risk_models.sample_cov(df)\n",
        "\n",
        "  # Optimize for max sharpe ratio\n",
        "  # Sharpe Ratio: A way to describe how much excess return you recieve for the extra amount of volatility you add. \n",
        "\n",
        "  ef = EfficientFrontier(mean, S)\n",
        "  weights = ef.max_sharpe()\n",
        "  cleaned_weights = ef.clean_weights()\n",
        "\n",
        "  cleaned_weights_array = [] \n",
        "  for key, value in cleaned_weights.items():\n",
        "   cleaned_weights_array.append(value)\n",
        "  cleaned_weights_array\n",
        "\n",
        "  return cleaned_weights_array\n",
        "\n",
        "\n"
      ],
      "metadata": {
        "id": "tgWTv7z9GJ9d"
      },
      "execution_count": null,
      "outputs": []
    },
    {
      "cell_type": "code",
      "source": [
        "# returns an array with how many shares of each stock should be bought\n",
        "# df is a data frame of daily stock prices, weights is an array with weights of each stock in df, and money is how much money you can invest\n",
        "def find_discrete_allocation(df, weights, money):\n",
        "  latest_prices = get_latest_prices(df)\n",
        "  spend = np.dot(money,weights) #how much you can spend on each stock \n",
        "  num = [] # how much of each stock to buy\n",
        "  for i in range(len(weights)):\n",
        "    num.append(np.floor(spend[i]/latest_prices[i]))\n",
        "  return num\n"
      ],
      "metadata": {
        "id": "S_yB44ENHDsX"
      },
      "execution_count": null,
      "outputs": []
    },
    {
      "cell_type": "code",
      "source": [
        "# finds left over money after investing in the portfolio\n",
        "# num_stocks is the number of shares of each stock bought\n",
        "# df must be updated (have today's prices)\n",
        "def find_money_left_over(num_stocks, df, cash):\n",
        "   latest_prices = get_latest_prices(df)\n",
        "   spent = np.dot(num_stocks, latest_prices)\n",
        "   sum = spent.sum()\n",
        "   return cash - sum"
      ],
      "metadata": {
        "id": "-1idYRq5Ijoj"
      },
      "execution_count": null,
      "outputs": []
    },
    {
      "cell_type": "code",
      "source": [
        "#meant to be run after a cycle when rebalancing\n",
        "# gets total amount from selling portfolio plus our left over money \n",
        "def get_profit(num_stocks, df, extra_cash):\n",
        "  latest_prices = get_latest_prices(df)\n",
        "  sales = spent = np.dot(num_stocks, latest_prices)\n",
        "  sum = sales.sum()\n",
        "  return sum + extra_cash\n"
      ],
      "metadata": {
        "id": "QqtES-xWNeHJ"
      },
      "execution_count": null,
      "outputs": []
    },
    {
      "cell_type": "code",
      "source": [
        "money = 100000\n",
        "df = get_data(stockStartDate, today_date(), assets)\n",
        "weights = get_weights(df)\n",
        "a = find_discrete_allocation(df, weights, money)\n",
        "m = find_money_left_over(a, df, money)\n",
        "\n",
        "\n",
        "#should be run later (after month)\n",
        "get_profit(a, df, m) # should be the same as initial money since only used todays data"
      ],
      "metadata": {
        "colab": {
          "base_uri": "https://localhost:8080/"
        },
        "id": "MFc1t8XdGpQz",
        "outputId": "1211c648-0a12-4956-e292-0a091ad3fe39"
      },
      "execution_count": null,
      "outputs": [
        {
          "output_type": "stream",
          "name": "stdout",
          "text": [
            "[*********************100%***********************]  1 of 1 completed\n",
            "[*********************100%***********************]  1 of 1 completed\n",
            "[*********************100%***********************]  1 of 1 completed\n",
            "[*********************100%***********************]  1 of 1 completed\n",
            "[*********************100%***********************]  1 of 1 completed\n"
          ]
        },
        {
          "output_type": "execute_result",
          "data": {
            "text/plain": [
              "100000.0"
            ]
          },
          "metadata": {},
          "execution_count": 54
        }
      ]
    }
  ]
}